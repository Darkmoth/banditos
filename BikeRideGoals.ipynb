{
 "cells": [
  {
   "cell_type": "code",
   "execution_count": null,
   "metadata": {},
   "outputs": [],
   "source": [
    "import pandas as pd\n",
    "import numpy as np\n",
    "import subprocess\n",
    "from datetime import date\n",
    "import calendar\n",
    "import bandit.main as bd"
   ]
  },
  {
   "cell_type": "code",
   "execution_count": null,
   "metadata": {},
   "outputs": [],
   "source": [
    "def set_cohorts(source_df, score_col):\n",
    "    cohort_size = 3\n",
    "    cohort_size_2 = cohort_size**2\n",
    "    cohort_size_3 = cohort_size**3\n",
    "\n",
    "    # break out distinct scores\n",
    "    uniq_list = source_df[score_col].unique()\n",
    "    df = pd.DataFrame({score_col : uniq_list}).sort_values(score_col, ascending=True)\n",
    "    df = df.sort_values (score_col)\n",
    "    df = df.reset_index (drop=True)\n",
    "    \n",
    "    if len (df) > cohort_size:\n",
    "        grp_size = len (df) / cohort_size\n",
    "        df['cohort1'] = df.index // grp_size\n",
    "\n",
    "    if len (df) > cohort_size_2:\n",
    "        grp_size = len (df) / cohort_size_2\n",
    "        df['cohort2'] = df.index // grp_size\n",
    "        \n",
    "    if len (df) > cohort_size_3:\n",
    "        grp_size = len (df) / cohort_size_3\n",
    "        df['cohort3'] = df.index // grp_size\n",
    "\n",
    "    return df"
   ]
  },
  {
   "cell_type": "code",
   "execution_count": null,
   "metadata": {},
   "outputs": [],
   "source": [
    "def df_bandit_class(df, classname):\n",
    "    dfgb = df.groupby([classname])\n",
    "    dfgb = dfgb['Quality'].agg(['count','mean', 'var']).reset_index()\n",
    "    dfgb['total'] = dfgb['count'].sum()\n",
    "    dfgb['donext'] = dfgb.apply(lambda x: bd.get_tuned_ucb(x, 'mean', 'var'), axis=1).fillna(999)\n",
    "    foo = dfgb.sort_values('donext', ascending=False)\n",
    "    return foo"
   ]
  },
  {
   "cell_type": "code",
   "execution_count": null,
   "metadata": {},
   "outputs": [],
   "source": [
    "def df_search(df_in, cohort):\n",
    "    if not cohort in df_in:\n",
    "        return df_in\n",
    "\n",
    "    df_class = df_bandit_class(df_in, cohort)\n",
    "    print(df_class)\n",
    "    next_class = df_class.iloc[0, 0]\n",
    "    if df_in['Complete'].isnull().sum() > 0:\n",
    "        df_filtered = df_in[df_in[cohort] == next_class]\n",
    "    else:\n",
    "        df_filtered = df_in\n",
    "\n",
    "    return df_filtered"
   ]
  },
  {
   "cell_type": "code",
   "execution_count": null,
   "metadata": {},
   "outputs": [],
   "source": [
    "def rate_calc(df):\n",
    "    pedal_time = df['Goal'] * df['seconds']\n",
    "    rest_time = (df['Goal'] - 1) * 15\n",
    "    total_time = pedal_time + rest_time\n",
    "    rate = pedal_time / total_time\n",
    "    score = pedal_time * rate\n",
    "    return int(score)"
   ]
  },
  {
   "cell_type": "code",
   "execution_count": null,
   "metadata": {},
   "outputs": [],
   "source": [
    "currDate = date.today()\n",
    "list = [[x, y] for x in range(1,31) for y in [30,45,60,90,120]]"
   ]
  },
  {
   "cell_type": "code",
   "execution_count": null,
   "metadata": {},
   "outputs": [],
   "source": [
    "df = pd.DataFrame.from_records(list).rename(index=str, columns={0: \"Goal\", 1: \"seconds\"})\n",
    "df['Date'] = currDate\n",
    "df['Complete'] = np.nan\n",
    "df = df[['Date','Goal','seconds','Complete']]\n",
    "# df.to_excel('Outputtest.xlsx')\n",
    "sheet_info = pd.read_excel(io='BikeGoals.xlsx')\n",
    "df = df.append(sheet_info).reset_index(drop=True)"
   ]
  },
  {
   "cell_type": "code",
   "execution_count": null,
   "metadata": {},
   "outputs": [],
   "source": [
    "df['Value'] = df.apply(rate_calc, axis=1)\n",
    "val_df = set_cohorts(df, 'Value')\n",
    "df = df.merge(val_df, on='Value')"
   ]
  },
  {
   "cell_type": "code",
   "execution_count": null,
   "metadata": {},
   "outputs": [],
   "source": [
    "subprocess.Popen('BikeGoals.xlsx', shell=True)"
   ]
  },
  {
   "cell_type": "code",
   "execution_count": null,
   "metadata": {},
   "outputs": [],
   "source": [
    "# todo - score partial runs\n",
    "df['Score'] = np.where(df['Complete'] >= df['Goal'], df['Value']**1.2, 0)\n",
    "df.loc[df['Complete'].isnull(), 'Score'] = np.NaN\n",
    "df['Class'] = df['Goal'].map(str) + '-' + df['seconds'].map(str)\n",
    "df = bd.reduce(df,'Class')"
   ]
  },
  {
   "cell_type": "code",
   "execution_count": null,
   "metadata": {},
   "outputs": [],
   "source": [
    "df_quality = bd.get_quality(df['Score'])\n",
    "df = df.join(df_quality)"
   ]
  },
  {
   "cell_type": "code",
   "execution_count": null,
   "metadata": {},
   "outputs": [],
   "source": [
    "df_step1 = df_search(df,'cohort1')\n",
    "df_step1"
   ]
  },
  {
   "cell_type": "code",
   "execution_count": null,
   "metadata": {},
   "outputs": [],
   "source": [
    "df_step2 = df_search(df_step1,'cohort2')\n",
    "df_step2"
   ]
  },
  {
   "cell_type": "code",
   "execution_count": null,
   "metadata": {},
   "outputs": [],
   "source": [
    "df_step3 = df_search(df_step2,'cohort3')\n",
    "df_step3"
   ]
  },
  {
   "cell_type": "code",
   "execution_count": null,
   "metadata": {},
   "outputs": [],
   "source": [
    "df_bandit_class(df_step3, 'Class')"
   ]
  }
 ],
 "metadata": {
  "kernelspec": {
   "display_name": "Python 3",
   "language": "python",
   "name": "python3"
  },
  "language_info": {
   "codemirror_mode": {
    "name": "ipython",
    "version": 3
   },
   "file_extension": ".py",
   "mimetype": "text/x-python",
   "name": "python",
   "nbconvert_exporter": "python",
   "pygments_lexer": "ipython3",
   "version": "3.5.5"
  }
 },
 "nbformat": 4,
 "nbformat_minor": 2
}
