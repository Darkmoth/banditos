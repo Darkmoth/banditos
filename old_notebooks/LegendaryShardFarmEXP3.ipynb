{
 "cells": [
  {
   "cell_type": "code",
   "execution_count": 59,
   "metadata": {
    "collapsed": true
   },
   "outputs": [],
   "source": [
    "import pandas as pd\n",
    "import numpy as np\n",
    "from scipy.stats.mstats import gmean\n",
    "from probability import distr, draw"
   ]
  },
  {
   "cell_type": "code",
   "execution_count": 60,
   "metadata": {
    "collapsed": true
   },
   "outputs": [],
   "source": [
    "def get_quality(df_num):\n",
    "    df_med_dev = df_num.transform(lambda x: abs(x - x.median())).transform(lambda x: (x*0) + x.median() * 1.4826)\n",
    "    df_mscore = df_num.transform(lambda x: x - x.median()) / df_med_dev\n",
    "    df_squash = df_mscore.transform(lambda x: 1 / (1 + np.exp(-x)))\n",
    "    df_squash['quality'] = gmean(df_squash.iloc[:,:],axis=1)\n",
    "    df_quality = df_squash['quality']\n",
    "    return df_quality"
   ]
  },
  {
   "cell_type": "code",
   "execution_count": 61,
   "metadata": {},
   "outputs": [],
   "source": [
    "def exp3(df_in):\n",
    "    df_in['weight'] = 1.0\n",
    "    df = df_in[['LevelName','weight']].drop_duplicates(subset='LevelName', keep='first', inplace=False)\n",
    "    print(df)\n",
    "    return 0\n",
    "    gamma = 0.25\n",
    "    numActions = len(df.groupby(['LevelName']))\n",
    "    weights = [1.0] * numActions\n",
    "    ilen = len(df_in.index)\n",
    "    for x in range(ilen):\n",
    "        probabilityDistribution = distr(weights, gamma)\n",
    "        print(probabilityDistribution)\n",
    "        choice = draw(probabilityDistribution)\n",
    "        reward = df['quality'].iloc[x]\n",
    "        estimatedReward = reward / probabilityDistribution[choice]\n",
    "        print(estimatedReward)\n",
    "        \n",
    "    return numActions"
   ]
  },
  {
   "cell_type": "code",
   "execution_count": 62,
   "metadata": {
    "collapsed": true
   },
   "outputs": [],
   "source": [
    "df_csv = pd.read_csv('C:/Users/Haniff/Documents/GeneralProgramming/Diversified Projects/d3farmer/fsharp/Runs.csv')\n",
    "dat_len = len(df_csv) - 100"
   ]
  },
  {
   "cell_type": "code",
   "execution_count": 63,
   "metadata": {
    "collapsed": true
   },
   "outputs": [],
   "source": [
    "pick_len = int(100 + dat_len/2)"
   ]
  },
  {
   "cell_type": "code",
   "execution_count": 64,
   "metadata": {
    "collapsed": true
   },
   "outputs": [],
   "source": [
    "df = df_csv.tail(pick_len)"
   ]
  },
  {
   "cell_type": "code",
   "execution_count": 65,
   "metadata": {
    "collapsed": true
   },
   "outputs": [],
   "source": [
    "# df = df_in[['LevelName', 'LegendariesPH', 'ShardsPH']]"
   ]
  },
  {
   "cell_type": "code",
   "execution_count": 66,
   "metadata": {
    "collapsed": true
   },
   "outputs": [],
   "source": [
    "df_num = df[['XPPH','LegendariesPH', 'ShardsPH', 'Keys']]"
   ]
  },
  {
   "cell_type": "code",
   "execution_count": 67,
   "metadata": {
    "collapsed": true
   },
   "outputs": [],
   "source": [
    "df_quality = get_quality(df_num)"
   ]
  },
  {
   "cell_type": "code",
   "execution_count": 68,
   "metadata": {},
   "outputs": [
    {
     "data": {
      "text/html": [
       "<div>\n",
       "<style scoped>\n",
       "    .dataframe tbody tr th:only-of-type {\n",
       "        vertical-align: middle;\n",
       "    }\n",
       "\n",
       "    .dataframe tbody tr th {\n",
       "        vertical-align: top;\n",
       "    }\n",
       "\n",
       "    .dataframe thead th {\n",
       "        text-align: right;\n",
       "    }\n",
       "</style>\n",
       "<table border=\"1\" class=\"dataframe\">\n",
       "  <thead>\n",
       "    <tr style=\"text-align: right;\">\n",
       "      <th></th>\n",
       "      <th>LevelName</th>\n",
       "      <th>Difficulty</th>\n",
       "      <th>XPPH</th>\n",
       "      <th>LegendariesPH</th>\n",
       "      <th>ShardsPH</th>\n",
       "      <th>Keys</th>\n",
       "    </tr>\n",
       "  </thead>\n",
       "  <tbody>\n",
       "    <tr>\n",
       "      <th>158</th>\n",
       "      <td>T7</td>\n",
       "      <td>11</td>\n",
       "      <td>6800</td>\n",
       "      <td>0.0</td>\n",
       "      <td>1198</td>\n",
       "      <td>2</td>\n",
       "    </tr>\n",
       "    <tr>\n",
       "      <th>159</th>\n",
       "      <td>Master</td>\n",
       "      <td>4</td>\n",
       "      <td>1400</td>\n",
       "      <td>14.4</td>\n",
       "      <td>620</td>\n",
       "      <td>1</td>\n",
       "    </tr>\n",
       "    <tr>\n",
       "      <th>160</th>\n",
       "      <td>T9</td>\n",
       "      <td>13</td>\n",
       "      <td>7000</td>\n",
       "      <td>27.8</td>\n",
       "      <td>966</td>\n",
       "      <td>2</td>\n",
       "    </tr>\n",
       "    <tr>\n",
       "      <th>161</th>\n",
       "      <td>T3</td>\n",
       "      <td>7</td>\n",
       "      <td>2800</td>\n",
       "      <td>0.0</td>\n",
       "      <td>1065</td>\n",
       "      <td>1</td>\n",
       "    </tr>\n",
       "    <tr>\n",
       "      <th>162</th>\n",
       "      <td>T7</td>\n",
       "      <td>11</td>\n",
       "      <td>6900</td>\n",
       "      <td>22.2</td>\n",
       "      <td>1189</td>\n",
       "      <td>1</td>\n",
       "    </tr>\n",
       "    <tr>\n",
       "      <th>163</th>\n",
       "      <td>T3</td>\n",
       "      <td>7</td>\n",
       "      <td>2000</td>\n",
       "      <td>19.2</td>\n",
       "      <td>537</td>\n",
       "      <td>2</td>\n",
       "    </tr>\n",
       "    <tr>\n",
       "      <th>164</th>\n",
       "      <td>T7</td>\n",
       "      <td>11</td>\n",
       "      <td>5500</td>\n",
       "      <td>15.3</td>\n",
       "      <td>850</td>\n",
       "      <td>2</td>\n",
       "    </tr>\n",
       "    <tr>\n",
       "      <th>165</th>\n",
       "      <td>Expert</td>\n",
       "      <td>3</td>\n",
       "      <td>944</td>\n",
       "      <td>0.0</td>\n",
       "      <td>344</td>\n",
       "      <td>1</td>\n",
       "    </tr>\n",
       "    <tr>\n",
       "      <th>166</th>\n",
       "      <td>T9</td>\n",
       "      <td>13</td>\n",
       "      <td>7800</td>\n",
       "      <td>23.1</td>\n",
       "      <td>1071</td>\n",
       "      <td>2</td>\n",
       "    </tr>\n",
       "    <tr>\n",
       "      <th>167</th>\n",
       "      <td>T9</td>\n",
       "      <td>13</td>\n",
       "      <td>9600</td>\n",
       "      <td>18.7</td>\n",
       "      <td>1268</td>\n",
       "      <td>2</td>\n",
       "    </tr>\n",
       "  </tbody>\n",
       "</table>\n",
       "</div>"
      ],
      "text/plain": [
       "    LevelName  Difficulty  XPPH  LegendariesPH  ShardsPH  Keys\n",
       "158        T7          11  6800            0.0      1198     2\n",
       "159    Master           4  1400           14.4       620     1\n",
       "160        T9          13  7000           27.8       966     2\n",
       "161        T3           7  2800            0.0      1065     1\n",
       "162        T7          11  6900           22.2      1189     1\n",
       "163        T3           7  2000           19.2       537     2\n",
       "164        T7          11  5500           15.3       850     2\n",
       "165    Expert           3   944            0.0       344     1\n",
       "166        T9          13  7800           23.1      1071     2\n",
       "167        T9          13  9600           18.7      1268     2"
      ]
     },
     "execution_count": 68,
     "metadata": {},
     "output_type": "execute_result"
    }
   ],
   "source": [
    "df.tail(10)"
   ]
  },
  {
   "cell_type": "code",
   "execution_count": 69,
   "metadata": {
    "collapsed": true
   },
   "outputs": [],
   "source": [
    "df = df.join(df_quality)"
   ]
  },
  {
   "cell_type": "code",
   "execution_count": 70,
   "metadata": {},
   "outputs": [
    {
     "data": {
      "text/html": [
       "<div>\n",
       "<style scoped>\n",
       "    .dataframe tbody tr th:only-of-type {\n",
       "        vertical-align: middle;\n",
       "    }\n",
       "\n",
       "    .dataframe tbody tr th {\n",
       "        vertical-align: top;\n",
       "    }\n",
       "\n",
       "    .dataframe thead th {\n",
       "        text-align: right;\n",
       "    }\n",
       "</style>\n",
       "<table border=\"1\" class=\"dataframe\">\n",
       "  <thead>\n",
       "    <tr style=\"text-align: right;\">\n",
       "      <th></th>\n",
       "      <th>LevelName</th>\n",
       "      <th>Difficulty</th>\n",
       "      <th>XPPH</th>\n",
       "      <th>LegendariesPH</th>\n",
       "      <th>ShardsPH</th>\n",
       "      <th>Keys</th>\n",
       "      <th>quality</th>\n",
       "    </tr>\n",
       "  </thead>\n",
       "  <tbody>\n",
       "    <tr>\n",
       "      <th>141</th>\n",
       "      <td>T9</td>\n",
       "      <td>13</td>\n",
       "      <td>14800</td>\n",
       "      <td>37.3</td>\n",
       "      <td>1653</td>\n",
       "      <td>2</td>\n",
       "      <td>0.851553</td>\n",
       "    </tr>\n",
       "    <tr>\n",
       "      <th>153</th>\n",
       "      <td>T9</td>\n",
       "      <td>13</td>\n",
       "      <td>10200</td>\n",
       "      <td>30.2</td>\n",
       "      <td>1287</td>\n",
       "      <td>2</td>\n",
       "      <td>0.790201</td>\n",
       "    </tr>\n",
       "    <tr>\n",
       "      <th>152</th>\n",
       "      <td>T9</td>\n",
       "      <td>13</td>\n",
       "      <td>8900</td>\n",
       "      <td>27.4</td>\n",
       "      <td>1287</td>\n",
       "      <td>2</td>\n",
       "      <td>0.770700</td>\n",
       "    </tr>\n",
       "    <tr>\n",
       "      <th>148</th>\n",
       "      <td>T9</td>\n",
       "      <td>13</td>\n",
       "      <td>9800</td>\n",
       "      <td>19.2</td>\n",
       "      <td>1376</td>\n",
       "      <td>2</td>\n",
       "      <td>0.747062</td>\n",
       "    </tr>\n",
       "    <tr>\n",
       "      <th>133</th>\n",
       "      <td>T7</td>\n",
       "      <td>11</td>\n",
       "      <td>7300</td>\n",
       "      <td>21.7</td>\n",
       "      <td>1375</td>\n",
       "      <td>2</td>\n",
       "      <td>0.736308</td>\n",
       "    </tr>\n",
       "    <tr>\n",
       "      <th>167</th>\n",
       "      <td>T9</td>\n",
       "      <td>13</td>\n",
       "      <td>9600</td>\n",
       "      <td>18.7</td>\n",
       "      <td>1268</td>\n",
       "      <td>2</td>\n",
       "      <td>0.733497</td>\n",
       "    </tr>\n",
       "    <tr>\n",
       "      <th>157</th>\n",
       "      <td>T7</td>\n",
       "      <td>11</td>\n",
       "      <td>6200</td>\n",
       "      <td>47.6</td>\n",
       "      <td>953</td>\n",
       "      <td>2</td>\n",
       "      <td>0.730308</td>\n",
       "    </tr>\n",
       "    <tr>\n",
       "      <th>139</th>\n",
       "      <td>T9</td>\n",
       "      <td>13</td>\n",
       "      <td>11100</td>\n",
       "      <td>10.6</td>\n",
       "      <td>4524</td>\n",
       "      <td>2</td>\n",
       "      <td>0.724754</td>\n",
       "    </tr>\n",
       "    <tr>\n",
       "      <th>166</th>\n",
       "      <td>T9</td>\n",
       "      <td>13</td>\n",
       "      <td>7800</td>\n",
       "      <td>23.1</td>\n",
       "      <td>1071</td>\n",
       "      <td>2</td>\n",
       "      <td>0.717815</td>\n",
       "    </tr>\n",
       "    <tr>\n",
       "      <th>110</th>\n",
       "      <td>T8</td>\n",
       "      <td>12</td>\n",
       "      <td>10800</td>\n",
       "      <td>12.4</td>\n",
       "      <td>1550</td>\n",
       "      <td>2</td>\n",
       "      <td>0.716699</td>\n",
       "    </tr>\n",
       "  </tbody>\n",
       "</table>\n",
       "</div>"
      ],
      "text/plain": [
       "    LevelName  Difficulty   XPPH  LegendariesPH  ShardsPH  Keys   quality\n",
       "141        T9          13  14800           37.3      1653     2  0.851553\n",
       "153        T9          13  10200           30.2      1287     2  0.790201\n",
       "152        T9          13   8900           27.4      1287     2  0.770700\n",
       "148        T9          13   9800           19.2      1376     2  0.747062\n",
       "133        T7          11   7300           21.7      1375     2  0.736308\n",
       "167        T9          13   9600           18.7      1268     2  0.733497\n",
       "157        T7          11   6200           47.6       953     2  0.730308\n",
       "139        T9          13  11100           10.6      4524     2  0.724754\n",
       "166        T9          13   7800           23.1      1071     2  0.717815\n",
       "110        T8          12  10800           12.4      1550     2  0.716699"
      ]
     },
     "execution_count": 70,
     "metadata": {},
     "output_type": "execute_result"
    }
   ],
   "source": [
    "df.sort_values('quality', ascending=False).head(10)"
   ]
  },
  {
   "cell_type": "code",
   "execution_count": 71,
   "metadata": {},
   "outputs": [
    {
     "name": "stdout",
     "output_type": "stream",
     "text": [
      "   LevelName  weight\n",
      "34        T9     1.0\n",
      "35        T8     1.0\n",
      "36        T7     1.0\n",
      "37        T6     1.0\n",
      "38       T13     1.0\n",
      "39       T12     1.0\n",
      "40        T5     1.0\n",
      "41       T11     1.0\n",
      "42       T10     1.0\n",
      "45        T1     1.0\n",
      "51    Expert     1.0\n",
      "54        T3     1.0\n",
      "57    Master     1.0\n",
      "62        T4     1.0\n",
      "68        T2     1.0\n"
     ]
    },
    {
     "data": {
      "text/plain": [
       "0"
      ]
     },
     "execution_count": 71,
     "metadata": {},
     "output_type": "execute_result"
    }
   ],
   "source": [
    "exp3(df)"
   ]
  },
  {
   "cell_type": "code",
   "execution_count": 72,
   "metadata": {},
   "outputs": [
    {
     "ename": "SyntaxError",
     "evalue": "'return' outside function (<ipython-input-72-64672a10de46>, line 1)",
     "output_type": "error",
     "traceback": [
      "\u001b[1;36m  File \u001b[1;32m\"<ipython-input-72-64672a10de46>\"\u001b[1;36m, line \u001b[1;32m1\u001b[0m\n\u001b[1;33m    return\u001b[0m\n\u001b[1;37m          ^\u001b[0m\n\u001b[1;31mSyntaxError\u001b[0m\u001b[1;31m:\u001b[0m 'return' outside function\n"
     ]
    }
   ],
   "source": [
    "return"
   ]
  }
 ],
 "metadata": {
  "kernelspec": {
   "display_name": "Python 3",
   "language": "python",
   "name": "python3"
  },
  "language_info": {
   "codemirror_mode": {
    "name": "ipython",
    "version": 3
   },
   "file_extension": ".py",
   "mimetype": "text/x-python",
   "name": "python",
   "nbconvert_exporter": "python",
   "pygments_lexer": "ipython3",
   "version": "3.5.3"
  }
 },
 "nbformat": 4,
 "nbformat_minor": 2
}
