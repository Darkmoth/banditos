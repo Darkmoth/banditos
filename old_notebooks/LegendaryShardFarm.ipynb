{
 "cells": [
  {
   "cell_type": "code",
   "execution_count": 37,
   "metadata": {
    "collapsed": true
   },
   "outputs": [],
   "source": [
    "import pandas as pd\n",
    "import numpy as np"
   ]
  },
  {
   "cell_type": "code",
   "execution_count": 38,
   "metadata": {
    "collapsed": true
   },
   "outputs": [],
   "source": [
    "def get_quality(df_num):\n",
    "    df_med_dev = df_num.transform(lambda x: abs(x - x.median())).transform(lambda x: (x*0) + x.median() * 1.4826)\n",
    "    df_mscore = df_num.transform(lambda x: x - x.median()) / df_med_dev\n",
    "    df_quality = df_mscore.mean(axis=1).transform(lambda x: 1 / (1 + np.exp(-x))).to_frame('quality')\n",
    "    return df_quality"
   ]
  },
  {
   "cell_type": "code",
   "execution_count": 39,
   "metadata": {
    "collapsed": true
   },
   "outputs": [],
   "source": [
    "df_csv = pd.read_csv('C:/Users/Haniff/Documents/GeneralProgramming/Diversified Projects/d3farmer/fsharp/Runs.csv')\n",
    "dat_len = len(df_csv) - 100"
   ]
  },
  {
   "cell_type": "code",
   "execution_count": 40,
   "metadata": {
    "collapsed": true
   },
   "outputs": [],
   "source": [
    "pick_len = int(100 + dat_len/2)"
   ]
  },
  {
   "cell_type": "code",
   "execution_count": 41,
   "metadata": {
    "collapsed": true
   },
   "outputs": [],
   "source": [
    "df_in = df_csv.tail(pick_len)"
   ]
  },
  {
   "cell_type": "code",
   "execution_count": 42,
   "metadata": {
    "collapsed": true
   },
   "outputs": [],
   "source": [
    "df = df_in[['LevelName', 'LegendariesPH', 'ShardsPH']]"
   ]
  },
  {
   "cell_type": "code",
   "execution_count": 43,
   "metadata": {
    "collapsed": true
   },
   "outputs": [],
   "source": [
    "df_num = df_in[['LegendariesPH', 'ShardsPH']]"
   ]
  },
  {
   "cell_type": "code",
   "execution_count": 44,
   "metadata": {
    "collapsed": true
   },
   "outputs": [],
   "source": [
    "df_quality = get_quality(df_num)"
   ]
  },
  {
   "cell_type": "code",
   "execution_count": 45,
   "metadata": {},
   "outputs": [
    {
     "data": {
      "text/html": [
       "<div>\n",
       "<style>\n",
       "    .dataframe thead tr:only-child th {\n",
       "        text-align: right;\n",
       "    }\n",
       "\n",
       "    .dataframe thead th {\n",
       "        text-align: left;\n",
       "    }\n",
       "\n",
       "    .dataframe tbody tr th {\n",
       "        vertical-align: top;\n",
       "    }\n",
       "</style>\n",
       "<table border=\"1\" class=\"dataframe\">\n",
       "  <thead>\n",
       "    <tr style=\"text-align: right;\">\n",
       "      <th></th>\n",
       "      <th>LevelName</th>\n",
       "      <th>LegendariesPH</th>\n",
       "      <th>ShardsPH</th>\n",
       "    </tr>\n",
       "  </thead>\n",
       "  <tbody>\n",
       "    <tr>\n",
       "      <th>151</th>\n",
       "      <td>T2</td>\n",
       "      <td>15.6</td>\n",
       "      <td>937</td>\n",
       "    </tr>\n",
       "    <tr>\n",
       "      <th>152</th>\n",
       "      <td>T9</td>\n",
       "      <td>27.4</td>\n",
       "      <td>1287</td>\n",
       "    </tr>\n",
       "    <tr>\n",
       "      <th>153</th>\n",
       "      <td>T9</td>\n",
       "      <td>30.2</td>\n",
       "      <td>1287</td>\n",
       "    </tr>\n",
       "    <tr>\n",
       "      <th>154</th>\n",
       "      <td>T9</td>\n",
       "      <td>14.7</td>\n",
       "      <td>1052</td>\n",
       "    </tr>\n",
       "    <tr>\n",
       "      <th>155</th>\n",
       "      <td>T11</td>\n",
       "      <td>10.2</td>\n",
       "      <td>0</td>\n",
       "    </tr>\n",
       "    <tr>\n",
       "      <th>156</th>\n",
       "      <td>T9</td>\n",
       "      <td>12.7</td>\n",
       "      <td>826</td>\n",
       "    </tr>\n",
       "    <tr>\n",
       "      <th>157</th>\n",
       "      <td>T7</td>\n",
       "      <td>47.6</td>\n",
       "      <td>953</td>\n",
       "    </tr>\n",
       "    <tr>\n",
       "      <th>158</th>\n",
       "      <td>T7</td>\n",
       "      <td>0.0</td>\n",
       "      <td>1198</td>\n",
       "    </tr>\n",
       "    <tr>\n",
       "      <th>159</th>\n",
       "      <td>Master</td>\n",
       "      <td>14.4</td>\n",
       "      <td>620</td>\n",
       "    </tr>\n",
       "    <tr>\n",
       "      <th>160</th>\n",
       "      <td>T9</td>\n",
       "      <td>27.8</td>\n",
       "      <td>966</td>\n",
       "    </tr>\n",
       "  </tbody>\n",
       "</table>\n",
       "</div>"
      ],
      "text/plain": [
       "    LevelName  LegendariesPH  ShardsPH\n",
       "151        T2           15.6       937\n",
       "152        T9           27.4      1287\n",
       "153        T9           30.2      1287\n",
       "154        T9           14.7      1052\n",
       "155       T11           10.2         0\n",
       "156        T9           12.7       826\n",
       "157        T7           47.6       953\n",
       "158        T7            0.0      1198\n",
       "159    Master           14.4       620\n",
       "160        T9           27.8       966"
      ]
     },
     "execution_count": 45,
     "metadata": {},
     "output_type": "execute_result"
    }
   ],
   "source": [
    "df.tail(10)"
   ]
  },
  {
   "cell_type": "code",
   "execution_count": 46,
   "metadata": {
    "collapsed": true
   },
   "outputs": [],
   "source": [
    "df = df.join(df_quality).sort_values('quality', ascending=False)"
   ]
  },
  {
   "cell_type": "code",
   "execution_count": 47,
   "metadata": {},
   "outputs": [
    {
     "data": {
      "text/html": [
       "<div>\n",
       "<style>\n",
       "    .dataframe thead tr:only-child th {\n",
       "        text-align: right;\n",
       "    }\n",
       "\n",
       "    .dataframe thead th {\n",
       "        text-align: left;\n",
       "    }\n",
       "\n",
       "    .dataframe tbody tr th {\n",
       "        vertical-align: top;\n",
       "    }\n",
       "</style>\n",
       "<table border=\"1\" class=\"dataframe\">\n",
       "  <thead>\n",
       "    <tr style=\"text-align: right;\">\n",
       "      <th></th>\n",
       "      <th>LevelName</th>\n",
       "      <th>LegendariesPH</th>\n",
       "      <th>ShardsPH</th>\n",
       "      <th>quality</th>\n",
       "    </tr>\n",
       "  </thead>\n",
       "  <tbody>\n",
       "    <tr>\n",
       "      <th>139</th>\n",
       "      <td>T9</td>\n",
       "      <td>10.6</td>\n",
       "      <td>4524</td>\n",
       "      <td>0.987466</td>\n",
       "    </tr>\n",
       "    <tr>\n",
       "      <th>65</th>\n",
       "      <td>T4</td>\n",
       "      <td>23.8</td>\n",
       "      <td>2163</td>\n",
       "      <td>0.900871</td>\n",
       "    </tr>\n",
       "    <tr>\n",
       "      <th>141</th>\n",
       "      <td>T9</td>\n",
       "      <td>37.3</td>\n",
       "      <td>1653</td>\n",
       "      <td>0.900060</td>\n",
       "    </tr>\n",
       "    <tr>\n",
       "      <th>123</th>\n",
       "      <td>T8</td>\n",
       "      <td>12.5</td>\n",
       "      <td>2540</td>\n",
       "      <td>0.896311</td>\n",
       "    </tr>\n",
       "    <tr>\n",
       "      <th>116</th>\n",
       "      <td>T8</td>\n",
       "      <td>49.6</td>\n",
       "      <td>1017</td>\n",
       "      <td>0.879929</td>\n",
       "    </tr>\n",
       "    <tr>\n",
       "      <th>157</th>\n",
       "      <td>T7</td>\n",
       "      <td>47.6</td>\n",
       "      <td>953</td>\n",
       "      <td>0.861991</td>\n",
       "    </tr>\n",
       "    <tr>\n",
       "      <th>113</th>\n",
       "      <td>T8</td>\n",
       "      <td>39.9</td>\n",
       "      <td>1022</td>\n",
       "      <td>0.829320</td>\n",
       "    </tr>\n",
       "    <tr>\n",
       "      <th>153</th>\n",
       "      <td>T9</td>\n",
       "      <td>30.2</td>\n",
       "      <td>1287</td>\n",
       "      <td>0.813080</td>\n",
       "    </tr>\n",
       "    <tr>\n",
       "      <th>128</th>\n",
       "      <td>T7</td>\n",
       "      <td>37.1</td>\n",
       "      <td>950</td>\n",
       "      <td>0.798568</td>\n",
       "    </tr>\n",
       "    <tr>\n",
       "      <th>152</th>\n",
       "      <td>T9</td>\n",
       "      <td>27.4</td>\n",
       "      <td>1287</td>\n",
       "      <td>0.794107</td>\n",
       "    </tr>\n",
       "  </tbody>\n",
       "</table>\n",
       "</div>"
      ],
      "text/plain": [
       "    LevelName  LegendariesPH  ShardsPH   quality\n",
       "139        T9           10.6      4524  0.987466\n",
       "65         T4           23.8      2163  0.900871\n",
       "141        T9           37.3      1653  0.900060\n",
       "123        T8           12.5      2540  0.896311\n",
       "116        T8           49.6      1017  0.879929\n",
       "157        T7           47.6       953  0.861991\n",
       "113        T8           39.9      1022  0.829320\n",
       "153        T9           30.2      1287  0.813080\n",
       "128        T7           37.1       950  0.798568\n",
       "152        T9           27.4      1287  0.794107"
      ]
     },
     "execution_count": 47,
     "metadata": {},
     "output_type": "execute_result"
    }
   ],
   "source": [
    "df.head(10)"
   ]
  },
  {
   "cell_type": "code",
   "execution_count": 48,
   "metadata": {
    "collapsed": true
   },
   "outputs": [],
   "source": [
    "dfgb = df.groupby(['LevelName'])"
   ]
  },
  {
   "cell_type": "code",
   "execution_count": 49,
   "metadata": {
    "collapsed": true
   },
   "outputs": [],
   "source": [
    "dfgb = dfgb['quality'].agg(['count','mean', 'var']).reset_index()"
   ]
  },
  {
   "cell_type": "code",
   "execution_count": 50,
   "metadata": {
    "collapsed": true
   },
   "outputs": [],
   "source": [
    "df = df.merge(dfgb)"
   ]
  },
  {
   "cell_type": "code",
   "execution_count": 51,
   "metadata": {
    "collapsed": true
   },
   "outputs": [],
   "source": [
    "dfgb['total'] = dfgb['count'].sum()"
   ]
  },
  {
   "cell_type": "code",
   "execution_count": 52,
   "metadata": {
    "collapsed": true
   },
   "outputs": [],
   "source": [
    "import math\n",
    "def get_ucb(row):\n",
    "    div1 = 2 * math.log(row['total']) / row['count']\n",
    "    min1 = min(0.25, row['var'] + div1)\n",
    "    div2 = math.log(row['total']) / row['count']\n",
    "    ucb = math.sqrt(div2 * min1)\n",
    "    return ucb + row['mean']"
   ]
  },
  {
   "cell_type": "code",
   "execution_count": 53,
   "metadata": {
    "collapsed": true
   },
   "outputs": [],
   "source": [
    "dfgb['Next Action'] = dfgb.apply(get_ucb, axis=1)"
   ]
  },
  {
   "cell_type": "code",
   "execution_count": 54,
   "metadata": {
    "scrolled": false
   },
   "outputs": [
    {
     "data": {
      "text/html": [
       "<div>\n",
       "<style>\n",
       "    .dataframe thead tr:only-child th {\n",
       "        text-align: right;\n",
       "    }\n",
       "\n",
       "    .dataframe thead th {\n",
       "        text-align: left;\n",
       "    }\n",
       "\n",
       "    .dataframe tbody tr th {\n",
       "        vertical-align: top;\n",
       "    }\n",
       "</style>\n",
       "<table border=\"1\" class=\"dataframe\">\n",
       "  <thead>\n",
       "    <tr style=\"text-align: right;\">\n",
       "      <th></th>\n",
       "      <th>LevelName</th>\n",
       "      <th>count</th>\n",
       "      <th>mean</th>\n",
       "      <th>var</th>\n",
       "      <th>total</th>\n",
       "      <th>Next Action</th>\n",
       "    </tr>\n",
       "  </thead>\n",
       "  <tbody>\n",
       "    <tr>\n",
       "      <th>14</th>\n",
       "      <td>T9</td>\n",
       "      <td>19</td>\n",
       "      <td>0.649222</td>\n",
       "      <td>0.035762</td>\n",
       "      <td>130</td>\n",
       "      <td>0.902297</td>\n",
       "    </tr>\n",
       "    <tr>\n",
       "      <th>12</th>\n",
       "      <td>T7</td>\n",
       "      <td>14</td>\n",
       "      <td>0.607144</td>\n",
       "      <td>0.030567</td>\n",
       "      <td>130</td>\n",
       "      <td>0.901967</td>\n",
       "    </tr>\n",
       "    <tr>\n",
       "      <th>3</th>\n",
       "      <td>T10</td>\n",
       "      <td>3</td>\n",
       "      <td>0.258012</td>\n",
       "      <td>0.006388</td>\n",
       "      <td>130</td>\n",
       "      <td>0.894901</td>\n",
       "    </tr>\n",
       "    <tr>\n",
       "      <th>1</th>\n",
       "      <td>Master</td>\n",
       "      <td>6</td>\n",
       "      <td>0.443803</td>\n",
       "      <td>0.006924</td>\n",
       "      <td>130</td>\n",
       "      <td>0.894152</td>\n",
       "    </tr>\n",
       "    <tr>\n",
       "      <th>7</th>\n",
       "      <td>T2</td>\n",
       "      <td>6</td>\n",
       "      <td>0.442200</td>\n",
       "      <td>0.013670</td>\n",
       "      <td>130</td>\n",
       "      <td>0.892549</td>\n",
       "    </tr>\n",
       "    <tr>\n",
       "      <th>8</th>\n",
       "      <td>T3</td>\n",
       "      <td>5</td>\n",
       "      <td>0.387522</td>\n",
       "      <td>0.009548</td>\n",
       "      <td>130</td>\n",
       "      <td>0.880854</td>\n",
       "    </tr>\n",
       "    <tr>\n",
       "      <th>4</th>\n",
       "      <td>T11</td>\n",
       "      <td>3</td>\n",
       "      <td>0.239284</td>\n",
       "      <td>0.002255</td>\n",
       "      <td>130</td>\n",
       "      <td>0.876173</td>\n",
       "    </tr>\n",
       "    <tr>\n",
       "      <th>11</th>\n",
       "      <td>T6</td>\n",
       "      <td>12</td>\n",
       "      <td>0.546258</td>\n",
       "      <td>0.017804</td>\n",
       "      <td>130</td>\n",
       "      <td>0.864702</td>\n",
       "    </tr>\n",
       "    <tr>\n",
       "      <th>10</th>\n",
       "      <td>T5</td>\n",
       "      <td>7</td>\n",
       "      <td>0.443541</td>\n",
       "      <td>0.010245</td>\n",
       "      <td>130</td>\n",
       "      <td>0.860483</td>\n",
       "    </tr>\n",
       "    <tr>\n",
       "      <th>13</th>\n",
       "      <td>T8</td>\n",
       "      <td>23</td>\n",
       "      <td>0.621617</td>\n",
       "      <td>0.029394</td>\n",
       "      <td>130</td>\n",
       "      <td>0.851635</td>\n",
       "    </tr>\n",
       "    <tr>\n",
       "      <th>5</th>\n",
       "      <td>T12</td>\n",
       "      <td>3</td>\n",
       "      <td>0.211869</td>\n",
       "      <td>0.000000</td>\n",
       "      <td>130</td>\n",
       "      <td>0.848758</td>\n",
       "    </tr>\n",
       "    <tr>\n",
       "      <th>6</th>\n",
       "      <td>T13</td>\n",
       "      <td>3</td>\n",
       "      <td>0.211869</td>\n",
       "      <td>0.000000</td>\n",
       "      <td>130</td>\n",
       "      <td>0.848758</td>\n",
       "    </tr>\n",
       "    <tr>\n",
       "      <th>0</th>\n",
       "      <td>Expert</td>\n",
       "      <td>4</td>\n",
       "      <td>0.292311</td>\n",
       "      <td>0.001176</td>\n",
       "      <td>130</td>\n",
       "      <td>0.843873</td>\n",
       "    </tr>\n",
       "    <tr>\n",
       "      <th>9</th>\n",
       "      <td>T4</td>\n",
       "      <td>12</td>\n",
       "      <td>0.464876</td>\n",
       "      <td>0.024190</td>\n",
       "      <td>130</td>\n",
       "      <td>0.783320</td>\n",
       "    </tr>\n",
       "    <tr>\n",
       "      <th>2</th>\n",
       "      <td>T1</td>\n",
       "      <td>10</td>\n",
       "      <td>0.372114</td>\n",
       "      <td>0.004194</td>\n",
       "      <td>130</td>\n",
       "      <td>0.720952</td>\n",
       "    </tr>\n",
       "  </tbody>\n",
       "</table>\n",
       "</div>"
      ],
      "text/plain": [
       "   LevelName  count      mean       var  total  Next Action\n",
       "14        T9     19  0.649222  0.035762    130     0.902297\n",
       "12        T7     14  0.607144  0.030567    130     0.901967\n",
       "3        T10      3  0.258012  0.006388    130     0.894901\n",
       "1     Master      6  0.443803  0.006924    130     0.894152\n",
       "7         T2      6  0.442200  0.013670    130     0.892549\n",
       "8         T3      5  0.387522  0.009548    130     0.880854\n",
       "4        T11      3  0.239284  0.002255    130     0.876173\n",
       "11        T6     12  0.546258  0.017804    130     0.864702\n",
       "10        T5      7  0.443541  0.010245    130     0.860483\n",
       "13        T8     23  0.621617  0.029394    130     0.851635\n",
       "5        T12      3  0.211869  0.000000    130     0.848758\n",
       "6        T13      3  0.211869  0.000000    130     0.848758\n",
       "0     Expert      4  0.292311  0.001176    130     0.843873\n",
       "9         T4     12  0.464876  0.024190    130     0.783320\n",
       "2         T1     10  0.372114  0.004194    130     0.720952"
      ]
     },
     "execution_count": 54,
     "metadata": {},
     "output_type": "execute_result"
    }
   ],
   "source": [
    "dfgb.sort_values('Next Action', ascending=False)"
   ]
  }
 ],
 "metadata": {
  "kernelspec": {
   "display_name": "Python 3",
   "language": "python",
   "name": "python3"
  },
  "language_info": {
   "codemirror_mode": {
    "name": "ipython",
    "version": 3
   },
   "file_extension": ".py",
   "mimetype": "text/x-python",
   "name": "python",
   "nbconvert_exporter": "python",
   "pygments_lexer": "ipython3",
   "version": "3.5.3"
  }
 },
 "nbformat": 4,
 "nbformat_minor": 2
}
