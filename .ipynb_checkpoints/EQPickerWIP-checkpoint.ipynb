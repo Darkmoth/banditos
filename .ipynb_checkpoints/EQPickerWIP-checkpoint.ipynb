{
 "cells": [
  {
   "cell_type": "code",
   "execution_count": null,
   "metadata": {
    "collapsed": true
   },
   "outputs": [],
   "source": [
    "import pandas as pd\n",
    "import numpy as np\n",
    "import math\n",
    "import datetime\n",
    "import bandit.main as bd"
   ]
  },
  {
   "cell_type": "code",
   "execution_count": null,
   "metadata": {
    "collapsed": true
   },
   "outputs": [],
   "source": [
    "def get_frame(filename):\n",
    "    df = pd.read_excel(io=filename)\n",
    "    # df_combined = pd.merge(df,df_lookup,on='Difficulty')\n",
    "    # df_combined['Duration'] = df_combined['Time'].apply(lambda x: pd.Timedelta(str(x))).astype('timedelta64[s]')\n",
    "    # df_combined['MatRate'] = df_combined['Mats'] / df_combined['Duration']\n",
    "    # df_combined['DiffClass'] = df_combined['Class'] + '-' + df_combined['Difficulty']\n",
    "    return df"
   ]
  },
  {
   "cell_type": "code",
   "execution_count": null,
   "metadata": {
    "collapsed": true
   },
   "outputs": [],
   "source": [
    "def get_quality(df_num):\n",
    "    df_min = df_num.transform(lambda x: x - x.min()).transform(lambda x: x/x.max())\n",
    "    df_quality = df_min.to_frame('Quality')\n",
    "    return df_quality"
   ]
  },
  {
   "cell_type": "code",
   "execution_count": null,
   "metadata": {
    "collapsed": true
   },
   "outputs": [],
   "source": [
    "def mad(df):\n",
    "    const_med = df.median()\n",
    "    df_med = abs(df - const_med)\n",
    "    v_mad = df_med.median()\n",
    "    return v_mad"
   ]
  },
  {
   "cell_type": "code",
   "execution_count": null,
   "metadata": {
    "collapsed": true
   },
   "outputs": [],
   "source": [
    "def get_ucb(row):\n",
    "    div1 = 2 * math.log(row['total']) / row['count']\n",
    "    ucb = math.sqrt(div1)\n",
    "    return ucb + row['median']"
   ]
  },
  {
   "cell_type": "code",
   "execution_count": null,
   "metadata": {
    "collapsed": true
   },
   "outputs": [],
   "source": [
    "def get_ucb2(row):\n",
    "    div1 = 3 * math.log(row['total']) / row['count']\n",
    "    min1 = min(0.25, row['mad'] + div1)\n",
    "    div2 = math.log(row['total']) / row['count']\n",
    "    ucb = math.sqrt(div2 * min1)\n",
    "    return ucb + row['median']"
   ]
  },
  {
   "cell_type": "code",
   "execution_count": null,
   "metadata": {
    "collapsed": true
   },
   "outputs": [],
   "source": [
    "def save_excel(df,col):\n",
    "    dfgb = df.groupby([col])\n",
    "    dfgb = dfgb['Quality'].agg(['count','median', mad]).reset_index()\n",
    "    return dfgb"
   ]
  },
  {
   "cell_type": "code",
   "execution_count": null,
   "metadata": {},
   "outputs": [],
   "source": [
    "df = get_frame('EQTime.xlsx')\n",
    "df.tail(10)"
   ]
  },
  {
   "cell_type": "code",
   "execution_count": null,
   "metadata": {},
   "outputs": [],
   "source": [
    "# reduce it\n",
    "df = bd.reduce(df,'Project')\n",
    "df['Duration'] = df['Duration'].apply(lambda x: pd.Timedelta(str(x))).astype('timedelta64[s]')\n",
    "df_quality = get_quality(df['Duration'])\n",
    "df = df.join(df_quality)"
   ]
  },
  {
   "cell_type": "code",
   "execution_count": null,
   "metadata": {},
   "outputs": [],
   "source": [
    "df.tail(10)"
   ]
  },
  {
   "cell_type": "code",
   "execution_count": null,
   "metadata": {},
   "outputs": [],
   "source": [
    "df.sort_values('Quality', ascending=False).head(10)"
   ]
  },
  {
   "cell_type": "code",
   "execution_count": null,
   "metadata": {
    "collapsed": true
   },
   "outputs": [],
   "source": [
    "dfgb = save_excel(df,'Project')"
   ]
  },
  {
   "cell_type": "code",
   "execution_count": null,
   "metadata": {},
   "outputs": [],
   "source": [
    "df = df.merge(dfgb)\n",
    "dfgb['total'] = dfgb['count'].sum()\n",
    "dfgb['donext'] = dfgb.apply(get_ucb2, axis=1)\n",
    "dfgb.sort_values('donext', ascending=False)"
   ]
  }
 ],
 "metadata": {
  "kernelspec": {
   "display_name": "Python 3",
   "language": "python",
   "name": "python3"
  },
  "language_info": {
   "codemirror_mode": {
    "name": "ipython",
    "version": 3
   },
   "file_extension": ".py",
   "mimetype": "text/x-python",
   "name": "python",
   "nbconvert_exporter": "python",
   "pygments_lexer": "ipython3",
   "version": "3.5.3"
  }
 },
 "nbformat": 4,
 "nbformat_minor": 2
}
