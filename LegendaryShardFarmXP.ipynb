{
 "cells": [
  {
   "cell_type": "code",
   "execution_count": 20,
   "metadata": {
    "collapsed": true
   },
   "outputs": [],
   "source": [
    "import pandas as pd\n",
    "import numpy as np\n",
    "from scipy.stats.mstats import gmean"
   ]
  },
  {
   "cell_type": "code",
   "execution_count": 21,
   "metadata": {
    "collapsed": true
   },
   "outputs": [],
   "source": [
    "def get_quality(df_num):\n",
    "    df_med_dev = df_num.transform(lambda x: abs(x - x.median())).transform(lambda x: (x*0) + x.median() * 1.4826)\n",
    "    df_mscore = df_num.transform(lambda x: x - x.median()) / df_med_dev\n",
    "    df_squash = df_mscore.transform(lambda x: 1 / (1 + np.exp(-x)))\n",
    "    df_squash['quality'] = gmean(df_squash.iloc[:,:],axis=1)\n",
    "    df_quality = df_squash['quality']\n",
    "    return df_quality"
   ]
  },
  {
   "cell_type": "code",
   "execution_count": 22,
   "metadata": {
    "collapsed": true
   },
   "outputs": [],
   "source": [
    "df_csv = pd.read_csv('C:/Users/Haniff/Documents/GeneralProgramming/Diversified Projects/d3farmer/fsharp/Runs.csv')\n",
    "dat_len = len(df_csv) - 100"
   ]
  },
  {
   "cell_type": "code",
   "execution_count": 23,
   "metadata": {
    "collapsed": true
   },
   "outputs": [],
   "source": [
    "pick_len = int(100 + dat_len/2)"
   ]
  },
  {
   "cell_type": "code",
   "execution_count": 24,
   "metadata": {
    "collapsed": true
   },
   "outputs": [],
   "source": [
    "df = df_csv.tail(pick_len)"
   ]
  },
  {
   "cell_type": "code",
   "execution_count": 25,
   "metadata": {
    "collapsed": true
   },
   "outputs": [],
   "source": [
    "# df = df_in[['LevelName', 'LegendariesPH', 'ShardsPH']]"
   ]
  },
  {
   "cell_type": "code",
   "execution_count": 26,
   "metadata": {
    "collapsed": true
   },
   "outputs": [],
   "source": [
    "df_num = df[['XPPH','LegendariesPH', 'ShardsPH', 'Keys']]"
   ]
  },
  {
   "cell_type": "code",
   "execution_count": 27,
   "metadata": {
    "collapsed": true
   },
   "outputs": [],
   "source": [
    "df_quality = get_quality(df_num)"
   ]
  },
  {
   "cell_type": "code",
   "execution_count": 28,
   "metadata": {},
   "outputs": [
    {
     "data": {
      "text/html": [
       "<div>\n",
       "<style scoped>\n",
       "    .dataframe tbody tr th:only-of-type {\n",
       "        vertical-align: middle;\n",
       "    }\n",
       "\n",
       "    .dataframe tbody tr th {\n",
       "        vertical-align: top;\n",
       "    }\n",
       "\n",
       "    .dataframe thead th {\n",
       "        text-align: right;\n",
       "    }\n",
       "</style>\n",
       "<table border=\"1\" class=\"dataframe\">\n",
       "  <thead>\n",
       "    <tr style=\"text-align: right;\">\n",
       "      <th></th>\n",
       "      <th>LevelName</th>\n",
       "      <th>Difficulty</th>\n",
       "      <th>XPPH</th>\n",
       "      <th>LegendariesPH</th>\n",
       "      <th>ShardsPH</th>\n",
       "      <th>Keys</th>\n",
       "    </tr>\n",
       "  </thead>\n",
       "  <tbody>\n",
       "    <tr>\n",
       "      <th>162</th>\n",
       "      <td>T7</td>\n",
       "      <td>11</td>\n",
       "      <td>6900</td>\n",
       "      <td>22.2</td>\n",
       "      <td>1189</td>\n",
       "      <td>1</td>\n",
       "    </tr>\n",
       "    <tr>\n",
       "      <th>163</th>\n",
       "      <td>T3</td>\n",
       "      <td>7</td>\n",
       "      <td>2000</td>\n",
       "      <td>19.2</td>\n",
       "      <td>537</td>\n",
       "      <td>2</td>\n",
       "    </tr>\n",
       "    <tr>\n",
       "      <th>164</th>\n",
       "      <td>T7</td>\n",
       "      <td>11</td>\n",
       "      <td>5500</td>\n",
       "      <td>15.3</td>\n",
       "      <td>850</td>\n",
       "      <td>2</td>\n",
       "    </tr>\n",
       "    <tr>\n",
       "      <th>165</th>\n",
       "      <td>Expert</td>\n",
       "      <td>3</td>\n",
       "      <td>944</td>\n",
       "      <td>0.0</td>\n",
       "      <td>344</td>\n",
       "      <td>1</td>\n",
       "    </tr>\n",
       "    <tr>\n",
       "      <th>166</th>\n",
       "      <td>T9</td>\n",
       "      <td>13</td>\n",
       "      <td>7800</td>\n",
       "      <td>23.1</td>\n",
       "      <td>1071</td>\n",
       "      <td>2</td>\n",
       "    </tr>\n",
       "    <tr>\n",
       "      <th>167</th>\n",
       "      <td>T9</td>\n",
       "      <td>13</td>\n",
       "      <td>9600</td>\n",
       "      <td>18.7</td>\n",
       "      <td>1268</td>\n",
       "      <td>2</td>\n",
       "    </tr>\n",
       "    <tr>\n",
       "      <th>168</th>\n",
       "      <td>T3</td>\n",
       "      <td>7</td>\n",
       "      <td>3300</td>\n",
       "      <td>27.4</td>\n",
       "      <td>862</td>\n",
       "      <td>2</td>\n",
       "    </tr>\n",
       "    <tr>\n",
       "      <th>169</th>\n",
       "      <td>T9</td>\n",
       "      <td>13</td>\n",
       "      <td>9000</td>\n",
       "      <td>7.8</td>\n",
       "      <td>1038</td>\n",
       "      <td>2</td>\n",
       "    </tr>\n",
       "    <tr>\n",
       "      <th>170</th>\n",
       "      <td>T9</td>\n",
       "      <td>13</td>\n",
       "      <td>10600</td>\n",
       "      <td>48.1</td>\n",
       "      <td>1242</td>\n",
       "      <td>1</td>\n",
       "    </tr>\n",
       "    <tr>\n",
       "      <th>171</th>\n",
       "      <td>T9</td>\n",
       "      <td>13</td>\n",
       "      <td>7900</td>\n",
       "      <td>14.3</td>\n",
       "      <td>2904</td>\n",
       "      <td>1</td>\n",
       "    </tr>\n",
       "  </tbody>\n",
       "</table>\n",
       "</div>"
      ],
      "text/plain": [
       "    LevelName  Difficulty   XPPH  LegendariesPH  ShardsPH  Keys\n",
       "162        T7          11   6900           22.2      1189     1\n",
       "163        T3           7   2000           19.2       537     2\n",
       "164        T7          11   5500           15.3       850     2\n",
       "165    Expert           3    944            0.0       344     1\n",
       "166        T9          13   7800           23.1      1071     2\n",
       "167        T9          13   9600           18.7      1268     2\n",
       "168        T3           7   3300           27.4       862     2\n",
       "169        T9          13   9000            7.8      1038     2\n",
       "170        T9          13  10600           48.1      1242     1\n",
       "171        T9          13   7900           14.3      2904     1"
      ]
     },
     "execution_count": 28,
     "metadata": {},
     "output_type": "execute_result"
    }
   ],
   "source": [
    "df.tail(10)"
   ]
  },
  {
   "cell_type": "code",
   "execution_count": 29,
   "metadata": {
    "collapsed": true
   },
   "outputs": [],
   "source": [
    "df = df.join(df_quality).sort_values('quality', ascending=False)"
   ]
  },
  {
   "cell_type": "code",
   "execution_count": 30,
   "metadata": {},
   "outputs": [
    {
     "data": {
      "text/html": [
       "<div>\n",
       "<style scoped>\n",
       "    .dataframe tbody tr th:only-of-type {\n",
       "        vertical-align: middle;\n",
       "    }\n",
       "\n",
       "    .dataframe tbody tr th {\n",
       "        vertical-align: top;\n",
       "    }\n",
       "\n",
       "    .dataframe thead th {\n",
       "        text-align: right;\n",
       "    }\n",
       "</style>\n",
       "<table border=\"1\" class=\"dataframe\">\n",
       "  <thead>\n",
       "    <tr style=\"text-align: right;\">\n",
       "      <th></th>\n",
       "      <th>LevelName</th>\n",
       "      <th>Difficulty</th>\n",
       "      <th>XPPH</th>\n",
       "      <th>LegendariesPH</th>\n",
       "      <th>ShardsPH</th>\n",
       "      <th>Keys</th>\n",
       "      <th>quality</th>\n",
       "    </tr>\n",
       "  </thead>\n",
       "  <tbody>\n",
       "    <tr>\n",
       "      <th>141</th>\n",
       "      <td>T9</td>\n",
       "      <td>13</td>\n",
       "      <td>14800</td>\n",
       "      <td>37.3</td>\n",
       "      <td>1653</td>\n",
       "      <td>2</td>\n",
       "      <td>0.848031</td>\n",
       "    </tr>\n",
       "    <tr>\n",
       "      <th>153</th>\n",
       "      <td>T9</td>\n",
       "      <td>13</td>\n",
       "      <td>10200</td>\n",
       "      <td>30.2</td>\n",
       "      <td>1287</td>\n",
       "      <td>2</td>\n",
       "      <td>0.782216</td>\n",
       "    </tr>\n",
       "    <tr>\n",
       "      <th>152</th>\n",
       "      <td>T9</td>\n",
       "      <td>13</td>\n",
       "      <td>8900</td>\n",
       "      <td>27.4</td>\n",
       "      <td>1287</td>\n",
       "      <td>2</td>\n",
       "      <td>0.762211</td>\n",
       "    </tr>\n",
       "    <tr>\n",
       "      <th>170</th>\n",
       "      <td>T9</td>\n",
       "      <td>13</td>\n",
       "      <td>10600</td>\n",
       "      <td>48.1</td>\n",
       "      <td>1242</td>\n",
       "      <td>1</td>\n",
       "      <td>0.753175</td>\n",
       "    </tr>\n",
       "    <tr>\n",
       "      <th>148</th>\n",
       "      <td>T9</td>\n",
       "      <td>13</td>\n",
       "      <td>9800</td>\n",
       "      <td>19.2</td>\n",
       "      <td>1376</td>\n",
       "      <td>2</td>\n",
       "      <td>0.739625</td>\n",
       "    </tr>\n",
       "    <tr>\n",
       "      <th>133</th>\n",
       "      <td>T7</td>\n",
       "      <td>11</td>\n",
       "      <td>7300</td>\n",
       "      <td>21.7</td>\n",
       "      <td>1375</td>\n",
       "      <td>2</td>\n",
       "      <td>0.727930</td>\n",
       "    </tr>\n",
       "    <tr>\n",
       "      <th>167</th>\n",
       "      <td>T9</td>\n",
       "      <td>13</td>\n",
       "      <td>9600</td>\n",
       "      <td>18.7</td>\n",
       "      <td>1268</td>\n",
       "      <td>2</td>\n",
       "      <td>0.725041</td>\n",
       "    </tr>\n",
       "    <tr>\n",
       "      <th>139</th>\n",
       "      <td>T9</td>\n",
       "      <td>13</td>\n",
       "      <td>11100</td>\n",
       "      <td>10.6</td>\n",
       "      <td>4524</td>\n",
       "      <td>2</td>\n",
       "      <td>0.721036</td>\n",
       "    </tr>\n",
       "    <tr>\n",
       "      <th>157</th>\n",
       "      <td>T7</td>\n",
       "      <td>11</td>\n",
       "      <td>6200</td>\n",
       "      <td>47.6</td>\n",
       "      <td>953</td>\n",
       "      <td>2</td>\n",
       "      <td>0.716728</td>\n",
       "    </tr>\n",
       "    <tr>\n",
       "      <th>110</th>\n",
       "      <td>T8</td>\n",
       "      <td>12</td>\n",
       "      <td>10800</td>\n",
       "      <td>12.4</td>\n",
       "      <td>1550</td>\n",
       "      <td>2</td>\n",
       "      <td>0.709944</td>\n",
       "    </tr>\n",
       "  </tbody>\n",
       "</table>\n",
       "</div>"
      ],
      "text/plain": [
       "    LevelName  Difficulty   XPPH  LegendariesPH  ShardsPH  Keys   quality\n",
       "141        T9          13  14800           37.3      1653     2  0.848031\n",
       "153        T9          13  10200           30.2      1287     2  0.782216\n",
       "152        T9          13   8900           27.4      1287     2  0.762211\n",
       "170        T9          13  10600           48.1      1242     1  0.753175\n",
       "148        T9          13   9800           19.2      1376     2  0.739625\n",
       "133        T7          11   7300           21.7      1375     2  0.727930\n",
       "167        T9          13   9600           18.7      1268     2  0.725041\n",
       "139        T9          13  11100           10.6      4524     2  0.721036\n",
       "157        T7          11   6200           47.6       953     2  0.716728\n",
       "110        T8          12  10800           12.4      1550     2  0.709944"
      ]
     },
     "execution_count": 30,
     "metadata": {},
     "output_type": "execute_result"
    }
   ],
   "source": [
    "df.head(10)"
   ]
  },
  {
   "cell_type": "code",
   "execution_count": 31,
   "metadata": {
    "collapsed": true
   },
   "outputs": [],
   "source": [
    "dfgb = df.groupby(['LevelName'])"
   ]
  },
  {
   "cell_type": "code",
   "execution_count": 32,
   "metadata": {
    "collapsed": true
   },
   "outputs": [],
   "source": [
    "def mad(df):\n",
    "    const_med = df.median()\n",
    "    df_med = abs(df - const_med)\n",
    "    v_mad = df_med.median()\n",
    "    return v_mad"
   ]
  },
  {
   "cell_type": "code",
   "execution_count": 33,
   "metadata": {
    "collapsed": true
   },
   "outputs": [],
   "source": [
    "dfgb = dfgb['quality'].agg(['count','median', mad]).reset_index()"
   ]
  },
  {
   "cell_type": "code",
   "execution_count": 34,
   "metadata": {
    "collapsed": true
   },
   "outputs": [],
   "source": [
    "df = df.merge(dfgb)"
   ]
  },
  {
   "cell_type": "code",
   "execution_count": 35,
   "metadata": {
    "collapsed": true
   },
   "outputs": [],
   "source": [
    "dfgb['total'] = dfgb['count'].sum()"
   ]
  },
  {
   "cell_type": "code",
   "execution_count": 36,
   "metadata": {
    "collapsed": true
   },
   "outputs": [],
   "source": [
    "import math\n",
    "def get_ucb(row):\n",
    "    div1 = 3 * math.log(row['total']) / row['count']\n",
    "    min1 = min(0.25, row['mad'] + div1)\n",
    "    div2 = math.log(row['total']) / row['count']\n",
    "    ucb = math.sqrt(div2 * min1)\n",
    "    return ucb + row['median']"
   ]
  },
  {
   "cell_type": "code",
   "execution_count": 37,
   "metadata": {
    "collapsed": true
   },
   "outputs": [],
   "source": [
    "dfgb['Next Action'] = dfgb.apply(get_ucb, axis=1)"
   ]
  },
  {
   "cell_type": "code",
   "execution_count": 38,
   "metadata": {
    "scrolled": false
   },
   "outputs": [
    {
     "data": {
      "text/html": [
       "<div>\n",
       "<style scoped>\n",
       "    .dataframe tbody tr th:only-of-type {\n",
       "        vertical-align: middle;\n",
       "    }\n",
       "\n",
       "    .dataframe tbody tr th {\n",
       "        vertical-align: top;\n",
       "    }\n",
       "\n",
       "    .dataframe thead th {\n",
       "        text-align: right;\n",
       "    }\n",
       "</style>\n",
       "<table border=\"1\" class=\"dataframe\">\n",
       "  <thead>\n",
       "    <tr style=\"text-align: right;\">\n",
       "      <th></th>\n",
       "      <th>LevelName</th>\n",
       "      <th>count</th>\n",
       "      <th>median</th>\n",
       "      <th>mad</th>\n",
       "      <th>total</th>\n",
       "      <th>Next Action</th>\n",
       "    </tr>\n",
       "  </thead>\n",
       "  <tbody>\n",
       "    <tr>\n",
       "      <th>14</th>\n",
       "      <td>T9</td>\n",
       "      <td>23</td>\n",
       "      <td>0.664841</td>\n",
       "      <td>0.052266</td>\n",
       "      <td>136</td>\n",
       "      <td>0.895922</td>\n",
       "    </tr>\n",
       "    <tr>\n",
       "      <th>4</th>\n",
       "      <td>T11</td>\n",
       "      <td>3</td>\n",
       "      <td>0.254550</td>\n",
       "      <td>0.022800</td>\n",
       "      <td>136</td>\n",
       "      <td>0.894384</td>\n",
       "    </tr>\n",
       "    <tr>\n",
       "      <th>12</th>\n",
       "      <td>T7</td>\n",
       "      <td>16</td>\n",
       "      <td>0.613503</td>\n",
       "      <td>0.067242</td>\n",
       "      <td>136</td>\n",
       "      <td>0.890559</td>\n",
       "    </tr>\n",
       "    <tr>\n",
       "      <th>3</th>\n",
       "      <td>T10</td>\n",
       "      <td>3</td>\n",
       "      <td>0.249061</td>\n",
       "      <td>0.017311</td>\n",
       "      <td>136</td>\n",
       "      <td>0.888896</td>\n",
       "    </tr>\n",
       "    <tr>\n",
       "      <th>1</th>\n",
       "      <td>Master</td>\n",
       "      <td>6</td>\n",
       "      <td>0.421785</td>\n",
       "      <td>0.020303</td>\n",
       "      <td>136</td>\n",
       "      <td>0.874216</td>\n",
       "    </tr>\n",
       "    <tr>\n",
       "      <th>5</th>\n",
       "      <td>T12</td>\n",
       "      <td>3</td>\n",
       "      <td>0.231750</td>\n",
       "      <td>0.000000</td>\n",
       "      <td>136</td>\n",
       "      <td>0.871584</td>\n",
       "    </tr>\n",
       "    <tr>\n",
       "      <th>6</th>\n",
       "      <td>T13</td>\n",
       "      <td>3</td>\n",
       "      <td>0.231750</td>\n",
       "      <td>0.000000</td>\n",
       "      <td>136</td>\n",
       "      <td>0.871584</td>\n",
       "    </tr>\n",
       "    <tr>\n",
       "      <th>0</th>\n",
       "      <td>Expert</td>\n",
       "      <td>4</td>\n",
       "      <td>0.316756</td>\n",
       "      <td>0.008184</td>\n",
       "      <td>136</td>\n",
       "      <td>0.870868</td>\n",
       "    </tr>\n",
       "    <tr>\n",
       "      <th>8</th>\n",
       "      <td>T3</td>\n",
       "      <td>7</td>\n",
       "      <td>0.449032</td>\n",
       "      <td>0.012746</td>\n",
       "      <td>136</td>\n",
       "      <td>0.867901</td>\n",
       "    </tr>\n",
       "    <tr>\n",
       "      <th>13</th>\n",
       "      <td>T8</td>\n",
       "      <td>22</td>\n",
       "      <td>0.630532</td>\n",
       "      <td>0.038482</td>\n",
       "      <td>136</td>\n",
       "      <td>0.866806</td>\n",
       "    </tr>\n",
       "    <tr>\n",
       "      <th>7</th>\n",
       "      <td>T2</td>\n",
       "      <td>6</td>\n",
       "      <td>0.412464</td>\n",
       "      <td>0.055725</td>\n",
       "      <td>136</td>\n",
       "      <td>0.864895</td>\n",
       "    </tr>\n",
       "    <tr>\n",
       "      <th>10</th>\n",
       "      <td>T5</td>\n",
       "      <td>7</td>\n",
       "      <td>0.442606</td>\n",
       "      <td>0.026260</td>\n",
       "      <td>136</td>\n",
       "      <td>0.861476</td>\n",
       "    </tr>\n",
       "    <tr>\n",
       "      <th>11</th>\n",
       "      <td>T6</td>\n",
       "      <td>12</td>\n",
       "      <td>0.528051</td>\n",
       "      <td>0.036931</td>\n",
       "      <td>136</td>\n",
       "      <td>0.847968</td>\n",
       "    </tr>\n",
       "    <tr>\n",
       "      <th>9</th>\n",
       "      <td>T4</td>\n",
       "      <td>11</td>\n",
       "      <td>0.419793</td>\n",
       "      <td>0.027853</td>\n",
       "      <td>136</td>\n",
       "      <td>0.753935</td>\n",
       "    </tr>\n",
       "    <tr>\n",
       "      <th>2</th>\n",
       "      <td>T1</td>\n",
       "      <td>10</td>\n",
       "      <td>0.375727</td>\n",
       "      <td>0.019074</td>\n",
       "      <td>136</td>\n",
       "      <td>0.726179</td>\n",
       "    </tr>\n",
       "  </tbody>\n",
       "</table>\n",
       "</div>"
      ],
      "text/plain": [
       "   LevelName  count    median       mad  total  Next Action\n",
       "14        T9     23  0.664841  0.052266    136     0.895922\n",
       "4        T11      3  0.254550  0.022800    136     0.894384\n",
       "12        T7     16  0.613503  0.067242    136     0.890559\n",
       "3        T10      3  0.249061  0.017311    136     0.888896\n",
       "1     Master      6  0.421785  0.020303    136     0.874216\n",
       "5        T12      3  0.231750  0.000000    136     0.871584\n",
       "6        T13      3  0.231750  0.000000    136     0.871584\n",
       "0     Expert      4  0.316756  0.008184    136     0.870868\n",
       "8         T3      7  0.449032  0.012746    136     0.867901\n",
       "13        T8     22  0.630532  0.038482    136     0.866806\n",
       "7         T2      6  0.412464  0.055725    136     0.864895\n",
       "10        T5      7  0.442606  0.026260    136     0.861476\n",
       "11        T6     12  0.528051  0.036931    136     0.847968\n",
       "9         T4     11  0.419793  0.027853    136     0.753935\n",
       "2         T1     10  0.375727  0.019074    136     0.726179"
      ]
     },
     "execution_count": 38,
     "metadata": {},
     "output_type": "execute_result"
    }
   ],
   "source": [
    "dfgb.sort_values('Next Action', ascending=False)"
   ]
  }
 ],
 "metadata": {
  "kernelspec": {
   "display_name": "Python 3",
   "language": "python",
   "name": "python3"
  },
  "language_info": {
   "codemirror_mode": {
    "name": "ipython",
    "version": 3
   },
   "file_extension": ".py",
   "mimetype": "text/x-python",
   "name": "python",
   "nbconvert_exporter": "python",
   "pygments_lexer": "ipython3",
   "version": "3.5.3"
  }
 },
 "nbformat": 4,
 "nbformat_minor": 2
}
