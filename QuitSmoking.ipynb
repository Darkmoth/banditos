{
 "cells": [
  {
   "cell_type": "code",
   "execution_count": null,
   "metadata": {},
   "outputs": [],
   "source": [
    "import pandas as pd\n",
    "import numpy as np\n",
    "import math\n",
    "import subprocess\n",
    "from datetime import date, time, datetime, timedelta\n",
    "from IPython.display import display\n",
    "import calendar\n",
    "import bandit.main as bd"
   ]
  },
  {
   "cell_type": "code",
   "execution_count": null,
   "metadata": {},
   "outputs": [],
   "source": [
    "def df_search(df_in, cohort):\n",
    "    if not cohort in df_in:\n",
    "        return df_in\n",
    "\n",
    "    df_class = bd.df_bandit_class(df_in, cohort)\n",
    "    display(df_class)\n",
    "    next_class = df_class.iloc[0, 0]\n",
    "    if df_in['Complete'].isnull().sum() > 0:\n",
    "        df_filtered = df_in[df_in[cohort] == next_class]\n",
    "    else:\n",
    "        df_filtered = df_in\n",
    "        \n",
    "#     df_filtered = df_in[df_in[cohort] == next_class]\n",
    "    return df_filtered"
   ]
  },
  {
   "cell_type": "code",
   "execution_count": null,
   "metadata": {},
   "outputs": [],
   "source": [
    "def set_start(df):\n",
    "    goal_minutes = df['Goal']\n",
    "    final = datetime.combine(date.today(), time(0, 0)) + timedelta(minutes=goal_minutes)\n",
    "    return final"
   ]
  },
  {
   "cell_type": "code",
   "execution_count": null,
   "metadata": {},
   "outputs": [],
   "source": [
    "currDate = datetime.today()\n",
    "goal_list = [y for y in  range(5,1440,5)]\n",
    "df = pd.DataFrame({'Goal':goal_list})\n",
    "df['Date'] = currDate\n",
    "df['Complete'] = np.nan\n",
    "df = df[['Date', 'Goal', 'Complete']]"
   ]
  },
  {
   "cell_type": "code",
   "execution_count": null,
   "metadata": {},
   "outputs": [],
   "source": [
    "df_excel = pd.read_excel(io='StopSmoking.xlsx')\n",
    "foo = df_excel.groupby('Goal').count()\n",
    "foo['remove'] = np.where(foo['Complete'] > 0, True, False)\n",
    "foo = foo[['remove']]\n",
    "df = df.merge(foo,on='Goal',how='left')\n",
    "df = df[df['remove'] != True].drop(['remove'],axis=1)\n",
    "df.tail(10)"
   ]
  },
  {
   "cell_type": "code",
   "execution_count": null,
   "metadata": {},
   "outputs": [],
   "source": [
    "subprocess.Popen('StopSmoking.xlsx', shell=True)"
   ]
  },
  {
   "cell_type": "code",
   "execution_count": null,
   "metadata": {},
   "outputs": [],
   "source": [
    "df = df.append(df_excel).reset_index(drop=True)"
   ]
  },
  {
   "cell_type": "code",
   "execution_count": null,
   "metadata": {},
   "outputs": [],
   "source": [
    "df = bd.reduce(df,'Goal')"
   ]
  },
  {
   "cell_type": "code",
   "execution_count": null,
   "metadata": {},
   "outputs": [],
   "source": [
    "df.tail(10)"
   ]
  },
  {
   "cell_type": "code",
   "execution_count": null,
   "metadata": {},
   "outputs": [],
   "source": [
    "df['Score'] = np.where(df['Complete'] >= 1, df['Goal']**1.2, 0)\n",
    "df.loc[df['Complete'].isnull(), 'Score'] = np.NaN"
   ]
  },
  {
   "cell_type": "code",
   "execution_count": null,
   "metadata": {},
   "outputs": [],
   "source": [
    "df_quality = bd.get_quality(df['Score'])"
   ]
  },
  {
   "cell_type": "code",
   "execution_count": null,
   "metadata": {},
   "outputs": [],
   "source": [
    "df = df.join(df_quality).sort_values('Quality', ascending=False)"
   ]
  },
  {
   "cell_type": "code",
   "execution_count": null,
   "metadata": {},
   "outputs": [],
   "source": [
    "val_df = bd.set_cohorts(df, 'Goal')\n",
    "df = df.merge(val_df, on='Goal')"
   ]
  },
  {
   "cell_type": "code",
   "execution_count": null,
   "metadata": {},
   "outputs": [],
   "source": [
    "currDay = calendar.day_name[currDate.weekday()]\n",
    "df_today = df\n",
    "df_today['weekday'] = df_today['Date'].dt.day_name()\n",
    "df_today = df_today[df_today['weekday'] == currDay]\n",
    "today_sum = df_today['Complete'].notnull().sum()\n",
    "if today_sum >= 10:\n",
    "    df = df_today"
   ]
  },
  {
   "cell_type": "code",
   "execution_count": null,
   "metadata": {},
   "outputs": [],
   "source": [
    "df.sort_values('Date', ascending=True).tail(10)"
   ]
  },
  {
   "cell_type": "code",
   "execution_count": null,
   "metadata": {},
   "outputs": [],
   "source": [
    "df = df.sort_values('Quality', ascending=False)\n",
    "df.head(10)"
   ]
  },
  {
   "cell_type": "code",
   "execution_count": null,
   "metadata": {},
   "outputs": [],
   "source": [
    "df_step1 = df_search(df,'cohort1')\n",
    "df_step1.head(20)"
   ]
  },
  {
   "cell_type": "code",
   "execution_count": null,
   "metadata": {},
   "outputs": [],
   "source": [
    "df_step2 = df_search(df_step1,'cohort2')\n",
    "df_step2.head(20)"
   ]
  },
  {
   "cell_type": "code",
   "execution_count": null,
   "metadata": {},
   "outputs": [],
   "source": [
    "df_step3 = df_search(df_step2,'cohort3')\n",
    "df_step3"
   ]
  },
  {
   "cell_type": "code",
   "execution_count": null,
   "metadata": {},
   "outputs": [],
   "source": [
    "df = bd.df_bandit_class(df_step3, 'Goal')\n",
    "df['CanStart'] = df.apply(set_start, axis=1).dt.strftime('%I:%M %p')\n",
    "df"
   ]
  }
 ],
 "metadata": {
  "kernelspec": {
   "display_name": "Python [default]",
   "language": "python",
   "name": "python3"
  },
  "language_info": {
   "codemirror_mode": {
    "name": "ipython",
    "version": 3
   },
   "file_extension": ".py",
   "mimetype": "text/x-python",
   "name": "python",
   "nbconvert_exporter": "python",
   "pygments_lexer": "ipython3",
   "version": "3.7.0"
  }
 },
 "nbformat": 4,
 "nbformat_minor": 2
}
