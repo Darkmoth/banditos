{
 "cells": [
  {
   "cell_type": "code",
   "execution_count": null,
   "metadata": {},
   "outputs": [],
   "source": [
    "import pandas as pd\n",
    "import numpy as np\n",
    "import math\n",
    "import subprocess\n",
    "from datetime import date, time, datetime, timedelta\n",
    "import calendar\n",
    "import bandit.main as bd"
   ]
  },
  {
   "cell_type": "code",
   "execution_count": null,
   "metadata": {},
   "outputs": [],
   "source": [
    "def set_cohorts(source_df, score_col):\n",
    "    cohort_size = 3\n",
    "    cohort_size_2 = cohort_size**2\n",
    "    cohort_size_3 = cohort_size**3\n",
    "\n",
    "    # break out distinct scores\n",
    "    uniq_list = source_df[score_col].unique()\n",
    "    df = pd.DataFrame({score_col : uniq_list}).sort_values(score_col, ascending=True)\n",
    "    df = df.sort_values (score_col)\n",
    "    df = df.reset_index (drop=True)\n",
    "    \n",
    "    if len (df) > cohort_size:\n",
    "        grp_size = len (df) / cohort_size\n",
    "        df['cohort1'] = df.index // grp_size\n",
    "\n",
    "    if len (df) > cohort_size_2:\n",
    "        grp_size = len (df) / cohort_size_2\n",
    "        df['cohort2'] = df.index // grp_size\n",
    "        \n",
    "    if len (df) > cohort_size_3:\n",
    "        grp_size = len (df) / cohort_size_3\n",
    "        df['cohort3'] = df.index // grp_size\n",
    "\n",
    "    return df"
   ]
  },
  {
   "cell_type": "code",
   "execution_count": null,
   "metadata": {},
   "outputs": [],
   "source": [
    "def df_bandit_class(df, classname):\n",
    "    dfgb = df.groupby([classname])\n",
    "    dfgb = dfgb['Quality'].agg(['count','mean', 'var']).reset_index()\n",
    "    dfgb['total'] = dfgb['count'].sum()\n",
    "    dfgb['donext'] = dfgb.apply(lambda x: bd.get_tuned_ucb(x, 'mean', 'var'), axis=1).fillna(999)\n",
    "    foo = dfgb.sort_values('donext', ascending=False)\n",
    "    return foo"
   ]
  },
  {
   "cell_type": "code",
   "execution_count": null,
   "metadata": {},
   "outputs": [],
   "source": [
    "def df_search(df_in, cohort):\n",
    "    if not cohort in df_in:\n",
    "        return df_in\n",
    "\n",
    "    df_class = df_bandit_class(df_in, cohort)\n",
    "    print(df_class)\n",
    "    next_class = df_class.iloc[0, 0]\n",
    "    if df_in['Complete'].isnull().sum() > 0:\n",
    "        df_filtered = df_in[df_in[cohort] == next_class]\n",
    "    else:\n",
    "        df_filtered = df_in\n",
    "\n",
    "    return df_filtered"
   ]
  },
  {
   "cell_type": "code",
   "execution_count": null,
   "metadata": {},
   "outputs": [],
   "source": [
    "def set_start(df):\n",
    "    goal_minutes = df['Goal']\n",
    "    final = datetime.combine(date.today(), time(0, 0)) + timedelta(minutes=goal_minutes)\n",
    "    return final"
   ]
  },
  {
   "cell_type": "code",
   "execution_count": null,
   "metadata": {},
   "outputs": [],
   "source": []
  },
  {
   "cell_type": "code",
   "execution_count": null,
   "metadata": {},
   "outputs": [],
   "source": [
    "# timelist = [datetime.combine(date.today(), time(0, 0)) + timedelta(minutes=i) for i in  range(0,1440,5)]\n",
    "minute_list = [i for i in  range(5,1440,5)]\n",
    "df = pd.DataFrame({\"Start\":minute_list})"
   ]
  },
  {
   "cell_type": "code",
   "execution_count": null,
   "metadata": {},
   "outputs": [],
   "source": [
    "currDate = datetime.today()\n",
    "minute_list = [i for i in  range(5,1440,5)]\n",
    "df = pd.DataFrame({\"Goal\":minute_list})\n",
    "df[\"Date\"] = currDate\n",
    "df[\"Complete\"] = np.nan\n",
    "df = df[['Date', 'Goal', 'Complete']]"
   ]
  },
  {
   "cell_type": "code",
   "execution_count": null,
   "metadata": {},
   "outputs": [],
   "source": [
    "subprocess.Popen('StopSmoking.xlsx', shell=True)"
   ]
  },
  {
   "cell_type": "code",
   "execution_count": null,
   "metadata": {},
   "outputs": [],
   "source": [
    "df_excel = pd.read_excel(io='StopSmoking.xlsx')\n",
    "df = df.append(df_excel).reset_index(drop=True)"
   ]
  },
  {
   "cell_type": "code",
   "execution_count": null,
   "metadata": {},
   "outputs": [],
   "source": [
    "df = bd.reduce(df,'Goal')"
   ]
  },
  {
   "cell_type": "code",
   "execution_count": null,
   "metadata": {},
   "outputs": [],
   "source": [
    "df.tail(10)"
   ]
  },
  {
   "cell_type": "code",
   "execution_count": null,
   "metadata": {},
   "outputs": [],
   "source": [
    "df['Score'] = np.where(df['Complete'] >= 1, df['Goal']**1.2, 0)\n",
    "df.loc[df['Complete'].isnull(), 'Score'] = np.NaN"
   ]
  },
  {
   "cell_type": "code",
   "execution_count": null,
   "metadata": {},
   "outputs": [],
   "source": [
    "df_quality = bd.get_quality(df['Score'])"
   ]
  },
  {
   "cell_type": "code",
   "execution_count": null,
   "metadata": {},
   "outputs": [],
   "source": [
    "df = df.join(df_quality).sort_values('Quality', ascending=False)"
   ]
  },
  {
   "cell_type": "code",
   "execution_count": null,
   "metadata": {},
   "outputs": [],
   "source": [
    "val_df = set_cohorts(df, 'Goal')\n",
    "df = df.merge(val_df, on='Goal')"
   ]
  },
  {
   "cell_type": "code",
   "execution_count": null,
   "metadata": {},
   "outputs": [],
   "source": [
    "currDay = calendar.day_name[currDate.weekday()]\n",
    "df_today = df\n",
    "df_today['weekday'] = df_today['Date'].dt.day_name()\n",
    "df_today = df_today[df_today['weekday'] == currDay]\n",
    "today_sum = df_today['Complete'].notnull().sum()\n",
    "if today_sum >= 10:\n",
    "    df = df_today"
   ]
  },
  {
   "cell_type": "code",
   "execution_count": null,
   "metadata": {},
   "outputs": [],
   "source": [
    "df.sort_values('Date', ascending=True).tail(10)"
   ]
  },
  {
   "cell_type": "code",
   "execution_count": null,
   "metadata": {},
   "outputs": [],
   "source": [
    "df = df.sort_values('Quality', ascending=False)\n",
    "df.head(10)"
   ]
  },
  {
   "cell_type": "code",
   "execution_count": null,
   "metadata": {},
   "outputs": [],
   "source": [
    "df_step1 = df_search(df,'cohort1')\n",
    "df_step1"
   ]
  },
  {
   "cell_type": "code",
   "execution_count": null,
   "metadata": {},
   "outputs": [],
   "source": [
    "df_step2 = df_search(df_step1,'cohort2')\n",
    "df_step2"
   ]
  },
  {
   "cell_type": "code",
   "execution_count": null,
   "metadata": {},
   "outputs": [],
   "source": [
    "df_step3 = df_search(df_step2,'cohort3')\n",
    "df_step3"
   ]
  },
  {
   "cell_type": "code",
   "execution_count": null,
   "metadata": {},
   "outputs": [],
   "source": [
    "df = df_bandit_class(df_step3, 'Goal')\n",
    "df['CanStart'] = df.apply(set_start, axis=1).dt.strftime('%I:%M %p')\n",
    "df"
   ]
  }
 ],
 "metadata": {
  "kernelspec": {
   "display_name": "Python 3",
   "language": "python",
   "name": "python3"
  },
  "language_info": {
   "codemirror_mode": {
    "name": "ipython",
    "version": 3
   },
   "file_extension": ".py",
   "mimetype": "text/x-python",
   "name": "python",
   "nbconvert_exporter": "python",
   "pygments_lexer": "ipython3",
   "version": "3.5.5"
  }
 },
 "nbformat": 4,
 "nbformat_minor": 2
}
