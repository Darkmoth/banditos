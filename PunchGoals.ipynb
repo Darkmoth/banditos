{
 "cells": [
  {
   "cell_type": "code",
   "execution_count": null,
   "metadata": {},
   "outputs": [],
   "source": [
    "import pandas as pd\n",
    "import numpy as np\n",
    "import math\n",
    "import subprocess\n",
    "from datetime import date, time, datetime, timedelta\n",
    "from IPython.display import display\n",
    "import calendar\n",
    "import bandit.main as bd"
   ]
  },
  {
   "cell_type": "code",
   "execution_count": null,
   "metadata": {},
   "outputs": [],
   "source": [
    "def df_bandit_class(df, classname):\n",
    "    dfgb = df.groupby([classname])\n",
    "    dfgb = dfgb['Quality'].agg(['count','mean', 'var']).reset_index()\n",
    "    dfgb['total'] = dfgb['count'].sum()\n",
    "    dfgb['donext'] = dfgb.apply(lambda x: bd.get_tuned_ucb(x, 'mean', 'var'), axis=1).fillna(999)\n",
    "    foo = dfgb.sort_values('donext', ascending=False)\n",
    "    return foo"
   ]
  },
  {
   "cell_type": "code",
   "execution_count": null,
   "metadata": {},
   "outputs": [],
   "source": [
    "def df_search(df_in, cohort):\n",
    "    if not cohort in df_in:\n",
    "        return df_in\n",
    "\n",
    "    df_class = df_bandit_class(df_in, cohort)\n",
    "    display(df_class)\n",
    "    next_class = df_class.iloc[0, 0]\n",
    "    if df_in['Complete'].isnull().sum() > 0:\n",
    "        df_filtered = df_in[df_in[cohort] == next_class]\n",
    "    else:\n",
    "        df_filtered = df_in\n",
    "\n",
    "    return df_filtered"
   ]
  },
  {
   "cell_type": "code",
   "execution_count": null,
   "metadata": {},
   "outputs": [],
   "source": [
    "def rate_calc(df):\n",
    "    pedal_time = df['Goal'] * df['seconds']\n",
    "    rest_time = (df['Goal'] - 1) * 15\n",
    "    total_time = pedal_time + rest_time\n",
    "    rate = pedal_time / total_time\n",
    "    score = pedal_time * rate\n",
    "    return int(score)"
   ]
  },
  {
   "cell_type": "code",
   "execution_count": null,
   "metadata": {},
   "outputs": [],
   "source": [
    "currDate = datetime.today()\n",
    "goal_list = [[x, y] for x in range(1,15) for y in [72,76,80,84,88]]\n",
    "df = pd.DataFrame.from_records(goal_list).rename(index=str, columns={0: \"Minutes\", 1: \"Rate\"})\n",
    "df['Date'] = currDate\n",
    "df['Complete'] = np.nan\n",
    "df = df[['Date','Minutes','Rate','Complete']]"
   ]
  },
  {
   "cell_type": "code",
   "execution_count": null,
   "metadata": {},
   "outputs": [],
   "source": [
    "df_excel = pd.read_excel(io='PunchGoals.xlsx')\n",
    "foo = df_excel.groupby(['Minutes','Rate']).count().reset_index()\n",
    "display(foo)\n",
    "foo['remove'] = np.where(foo['Complete'] > 0, True, False)\n",
    "foo = foo[['Minutes','Rate','remove']]\n",
    "df = df.merge(foo,on=['Minutes','Rate'], how='left')\n",
    "df = df[df['remove'] != True].drop(['remove'],axis=1)\n",
    "df"
   ]
  },
  {
   "cell_type": "code",
   "execution_count": null,
   "metadata": {},
   "outputs": [],
   "source": [
    "subprocess.Popen('PunchGoals.xlsx', shell=True)"
   ]
  },
  {
   "cell_type": "code",
   "execution_count": null,
   "metadata": {},
   "outputs": [],
   "source": [
    "df = df.append(df_excel).reset_index(drop=True)"
   ]
  },
  {
   "cell_type": "code",
   "execution_count": null,
   "metadata": {},
   "outputs": [],
   "source": [
    "df['Value'] = df['Minutes'] * (df['Rate'] - 10)\n",
    "val_df = bd.set_cohorts(df, 'Value')\n",
    "df = df.merge(val_df, on='Value')\n",
    "df['Score'] = np.where(df['Complete'] >= df['Minutes'], df['Value']**1.2, df['Value'] / 5)\n",
    "df.loc[df['Complete'].isnull(), 'Score'] = np.NaN\n",
    "df['Class'] = df['Minutes'].map(str) + '-' + df['Rate'].map(str)\n",
    "df = bd.reduce(df,'Class')"
   ]
  },
  {
   "cell_type": "code",
   "execution_count": null,
   "metadata": {},
   "outputs": [],
   "source": [
    "df_quality = bd.get_quality(df['Score'])\n",
    "df = df.join(df_quality)"
   ]
  },
  {
   "cell_type": "code",
   "execution_count": null,
   "metadata": {},
   "outputs": [],
   "source": [
    "df_step1 = df_search(df,'cohort1')\n",
    "df_step1"
   ]
  },
  {
   "cell_type": "code",
   "execution_count": null,
   "metadata": {},
   "outputs": [],
   "source": [
    "df_step2 = df_search(df_step1,'cohort2')\n",
    "df_step2"
   ]
  },
  {
   "cell_type": "code",
   "execution_count": null,
   "metadata": {},
   "outputs": [],
   "source": [
    "df_step3 = df_search(df_step2,'cohort3')\n",
    "df_step3"
   ]
  },
  {
   "cell_type": "code",
   "execution_count": null,
   "metadata": {},
   "outputs": [],
   "source": [
    "df_bandit_class(df_step3, 'Class')"
   ]
  }
 ],
 "metadata": {
  "kernelspec": {
   "display_name": "Python [default]",
   "language": "python",
   "name": "python3"
  },
  "language_info": {
   "codemirror_mode": {
    "name": "ipython",
    "version": 3
   },
   "file_extension": ".py",
   "mimetype": "text/x-python",
   "name": "python",
   "nbconvert_exporter": "python",
   "pygments_lexer": "ipython3",
   "version": "3.7.0"
  }
 },
 "nbformat": 4,
 "nbformat_minor": 2
}
