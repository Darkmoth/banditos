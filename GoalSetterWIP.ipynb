{
 "cells": [
  {
   "cell_type": "code",
   "execution_count": null,
   "metadata": {
    "collapsed": true
   },
   "outputs": [],
   "source": [
    "import pandas as pd\n",
    "import numpy as np\n",
    "import math\n",
    "import datetime\n",
    "import bandit.main as bd"
   ]
  },
  {
   "cell_type": "code",
   "execution_count": null,
   "metadata": {
    "collapsed": true
   },
   "outputs": [],
   "source": [
    "def get_frame(filename):\n",
    "    df = pd.read_excel(io=filename)\n",
    "    # df_combined = pd.merge(df,df_lookup,on='Difficulty')\n",
    "    # df_combined['Duration'] = df_combined['Time'].apply(lambda x: pd.Timedelta(str(x))).astype('timedelta64[s]')\n",
    "    # df_combined['MatRate'] = df_combined['Mats'] / df_combined['Duration']\n",
    "    # df_combined['DiffClass'] = df_combined['Class'] + '-' + df_combined['Difficulty']\n",
    "    return df"
   ]
  },
  {
   "cell_type": "code",
   "execution_count": null,
   "metadata": {
    "collapsed": true
   },
   "outputs": [],
   "source": [
    "import math\n",
    "def get_ucb(row):\n",
    "    cnt = max(row['count'],1)\n",
    "    row_total = max(row['total'],1)\n",
    "    div1 = 2 * math.log(row_total) / cnt\n",
    "    min1 = min(0.25, row['var'] + div1)\n",
    "    div2 = math.log(row_total) / cnt\n",
    "    ucb = math.sqrt(div2 * min1)\n",
    "    return ucb + row['mean']"
   ]
  },
  {
   "cell_type": "code",
   "execution_count": null,
   "metadata": {
    "collapsed": true
   },
   "outputs": [],
   "source": [
    "# todo: combine bandit_class and bandit_diff\n",
    "def df_bandit_class(df, classname):\n",
    "    dfgb = df.groupby([classname])\n",
    "    dfgb = dfgb['Quality'].agg(['count','mean', 'var']).reset_index()\n",
    "    dfgb['total'] = dfgb['count'].sum()\n",
    "    dfgb['donext'] = dfgb.apply(get_ucb, axis=1).fillna(999)\n",
    "    foo = dfgb.sort_values('donext', ascending=False)\n",
    "    return foo"
   ]
  },
  {
   "cell_type": "code",
   "execution_count": null,
   "metadata": {
    "collapsed": true
   },
   "outputs": [],
   "source": [
    "def df_bandit_diff(df):\n",
    "    dfgb = df.groupby(['goal'])\n",
    "    dfgb = dfgb['Quality'].agg(['count','mean', 'var']).reset_index()\n",
    "    dfgb['total'] = dfgb['count'].sum()\n",
    "    dfgb['donext'] = dfgb.apply(get_ucb, axis=1).fillna(999)\n",
    "    foo = dfgb.sort_values('donext', ascending=False)\n",
    "    return foo"
   ]
  },
  {
   "cell_type": "code",
   "execution_count": null,
   "metadata": {
    "collapsed": true
   },
   "outputs": [],
   "source": [
    "def get_quality(df_num):\n",
    "    good_cnt = df_num.count()\n",
    "    df_min = df_num.transform(lambda x: x - x.min()).transform(lambda x: x/x.max())\n",
    "    df_quality = df_min.to_frame('Quality')\n",
    "    return df_quality"
   ]
  },
  {
   "cell_type": "code",
   "execution_count": null,
   "metadata": {
    "collapsed": true
   },
   "outputs": [],
   "source": [
    "df = get_frame('GoalSetter.xlsx')"
   ]
  },
  {
   "cell_type": "code",
   "execution_count": null,
   "metadata": {},
   "outputs": [],
   "source": [
    "df = bd.reduce(df,'goal')"
   ]
  },
  {
   "cell_type": "code",
   "execution_count": null,
   "metadata": {
    "collapsed": true
   },
   "outputs": [],
   "source": [
    "df_quality = get_quality(df['score'])"
   ]
  },
  {
   "cell_type": "code",
   "execution_count": null,
   "metadata": {
    "collapsed": true
   },
   "outputs": [],
   "source": [
    "df = df.join(df_quality).sort_values('Quality', ascending=False)"
   ]
  },
  {
   "cell_type": "code",
   "execution_count": null,
   "metadata": {
    "collapsed": true
   },
   "outputs": [],
   "source": [
    "#df.loc[df.score.isnull(), 'Quality'] = 0.5"
   ]
  },
  {
   "cell_type": "code",
   "execution_count": null,
   "metadata": {},
   "outputs": [],
   "source": [
    "df.tail(10)"
   ]
  },
  {
   "cell_type": "code",
   "execution_count": null,
   "metadata": {},
   "outputs": [],
   "source": [
    "df = df.sort_values('Quality', ascending=False)\n",
    "df.head(10)"
   ]
  },
  {
   "cell_type": "code",
   "execution_count": null,
   "metadata": {
    "collapsed": true
   },
   "outputs": [],
   "source": [
    "df_class = df_bandit_class(df,'cohort')"
   ]
  },
  {
   "cell_type": "code",
   "execution_count": null,
   "metadata": {},
   "outputs": [],
   "source": [
    "df_class"
   ]
  },
  {
   "cell_type": "code",
   "execution_count": null,
   "metadata": {
    "collapsed": true
   },
   "outputs": [],
   "source": [
    "nextClass = df_class.iloc[0,0]"
   ]
  },
  {
   "cell_type": "code",
   "execution_count": null,
   "metadata": {
    "collapsed": true
   },
   "outputs": [],
   "source": [
    "if df['complete'].isnull().sum() > 0:\n",
    "    df_filtered = df[df['cohort'] == nextClass]\n",
    "else:\n",
    "    df_filtered = df"
   ]
  },
  {
   "cell_type": "code",
   "execution_count": null,
   "metadata": {},
   "outputs": [],
   "source": [
    "df_bandit_diff(df_filtered)"
   ]
  }
 ],
 "metadata": {
  "kernelspec": {
   "display_name": "Python 3",
   "language": "python",
   "name": "python3"
  },
  "language_info": {
   "codemirror_mode": {
    "name": "ipython",
    "version": 3
   },
   "file_extension": ".py",
   "mimetype": "text/x-python",
   "name": "python",
   "nbconvert_exporter": "python",
   "pygments_lexer": "ipython3",
   "version": "3.5.3"
  }
 },
 "nbformat": 4,
 "nbformat_minor": 2
}
